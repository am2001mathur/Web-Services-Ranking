{
 "cells": [
  {
   "cell_type": "code",
   "execution_count": 1,
   "id": "7bc9c462",
   "metadata": {},
   "outputs": [],
   "source": [
    "import pandas as pd\n",
    "import numpy as np\n",
    "from matplotlib import pyplot as plt\n",
    "import seaborn as sns\n",
    "import warnings\n",
    "warnings.filterwarnings('ignore')\n"
   ]
  },
  {
   "cell_type": "code",
   "execution_count": 2,
   "id": "01cc81f8",
   "metadata": {},
   "outputs": [
    {
     "name": "stdout",
     "output_type": "stream",
     "text": [
      "<class 'pandas.core.frame.DataFrame'>\n",
      "RangeIndex: 2504 entries, 0 to 2503\n",
      "Data columns (total 10 columns):\n",
      " #   Column       Non-Null Count  Dtype  \n",
      "---  ------       --------------  -----  \n",
      " 0   0.089669472  2504 non-null   float64\n",
      " 1   0.838709677  2504 non-null   float64\n",
      " 2   0.369767442  2504 non-null   float64\n",
      " 3   0.945652174  2504 non-null   float64\n",
      " 4   0.714285714  2504 non-null   float64\n",
      " 5   1            2504 non-null   float64\n",
      " 6   0.755555556  2504 non-null   float64\n",
      " 7   0.000181     2504 non-null   float64\n",
      " 8   0.010416667  2504 non-null   float64\n",
      " 9   4            2504 non-null   int64  \n",
      "dtypes: float64(9), int64(1)\n",
      "memory usage: 195.8 KB\n"
     ]
    }
   ],
   "source": [
    "df = pd.read_csv('Kmeans_cluster_data.csv')\n",
    "df.shape\n",
    "df.isnull().count()\n",
    "df.sample(6)\n",
    "df.info()"
   ]
  },
  {
   "cell_type": "code",
   "execution_count": 3,
   "id": "ca77f2e9",
   "metadata": {},
   "outputs": [
    {
     "data": {
      "text/html": [
       "<div>\n",
       "<style scoped>\n",
       "    .dataframe tbody tr th:only-of-type {\n",
       "        vertical-align: middle;\n",
       "    }\n",
       "\n",
       "    .dataframe tbody tr th {\n",
       "        vertical-align: top;\n",
       "    }\n",
       "\n",
       "    .dataframe thead th {\n",
       "        text-align: right;\n",
       "    }\n",
       "</style>\n",
       "<table border=\"1\" class=\"dataframe\">\n",
       "  <thead>\n",
       "    <tr style=\"text-align: right;\">\n",
       "      <th></th>\n",
       "      <th>4</th>\n",
       "    </tr>\n",
       "  </thead>\n",
       "  <tbody>\n",
       "    <tr>\n",
       "      <th>888</th>\n",
       "      <td>4</td>\n",
       "    </tr>\n",
       "    <tr>\n",
       "      <th>140</th>\n",
       "      <td>4</td>\n",
       "    </tr>\n",
       "    <tr>\n",
       "      <th>158</th>\n",
       "      <td>4</td>\n",
       "    </tr>\n",
       "    <tr>\n",
       "      <th>1085</th>\n",
       "      <td>3</td>\n",
       "    </tr>\n",
       "    <tr>\n",
       "      <th>602</th>\n",
       "      <td>3</td>\n",
       "    </tr>\n",
       "  </tbody>\n",
       "</table>\n",
       "</div>"
      ],
      "text/plain": [
       "      4\n",
       "888   4\n",
       "140   4\n",
       "158   4\n",
       "1085  3\n",
       "602   3"
      ]
     },
     "execution_count": 3,
     "metadata": {},
     "output_type": "execute_result"
    }
   ],
   "source": [
    "X = df.iloc[:,0:9]# Dependency,AvailNorm,throughNorm,successNorm,reliableNORM,compliantNorm,bestpracNorm,latencyNorm,documentNorm,k_Means   \n",
    "y = df.iloc[:,-1:]#Fuzzyc_meansq\n",
    "X.sample(6)\n",
    "y.sample(5)"
   ]
  },
  {
   "cell_type": "code",
   "execution_count": 4,
   "id": "7d79fdfc",
   "metadata": {},
   "outputs": [],
   "source": [
    "from sklearn.model_selection import train_test_split\n",
    "X_train,X_test,y_train,y_test = train_test_split(X,y,test_size=0.2,random_state=42)"
   ]
  },
  {
   "cell_type": "code",
   "execution_count": 5,
   "id": "98185764",
   "metadata": {},
   "outputs": [
    {
     "data": {
      "text/plain": [
       "(2005, 9)"
      ]
     },
     "execution_count": 5,
     "metadata": {},
     "output_type": "execute_result"
    }
   ],
   "source": [
    "X_train.shape\n",
    "(2005, 9)"
   ]
  },
  {
   "cell_type": "code",
   "execution_count": 6,
   "id": "bfa99f22",
   "metadata": {},
   "outputs": [
    {
     "data": {
      "text/plain": [
       "(502, 9)"
      ]
     },
     "execution_count": 6,
     "metadata": {},
     "output_type": "execute_result"
    }
   ],
   "source": [
    "X_test.shape\n",
    "(502, 9)"
   ]
  },
  {
   "cell_type": "code",
   "execution_count": 7,
   "id": "85c38b58",
   "metadata": {},
   "outputs": [
    {
     "data": {
      "text/plain": [
       "(2005, 1)"
      ]
     },
     "execution_count": 7,
     "metadata": {},
     "output_type": "execute_result"
    }
   ],
   "source": [
    "y_train.shape\n",
    "(2005, 1)"
   ]
  },
  {
   "cell_type": "code",
   "execution_count": 8,
   "id": "9297e066",
   "metadata": {},
   "outputs": [
    {
     "data": {
      "text/plain": [
       "(502, 1)"
      ]
     },
     "execution_count": 8,
     "metadata": {},
     "output_type": "execute_result"
    }
   ],
   "source": [
    "y_test.shape\n",
    "(502, 1)"
   ]
  },
  {
   "cell_type": "code",
   "execution_count": 12,
   "id": "96cd24d1",
   "metadata": {},
   "outputs": [
    {
     "data": {
      "text/plain": [
       "0.998003992015968"
      ]
     },
     "execution_count": 12,
     "metadata": {},
     "output_type": "execute_result"
    }
   ],
   "source": [
    "from sklearn.ensemble import RandomForestClassifier\n",
    "model = RandomForestClassifier(n_estimators=10)\n",
    "model.fit(X_test,y_test) \n",
    "model.score(X_test,y_test)\n",
    "y_predicted = model.predict(X_test)\n",
    "from sklearn.metrics import accuracy_score\n",
    "accuracy_score(y_test,y_predicted)"
   ]
  },
  {
   "cell_type": "code",
   "execution_count": 13,
   "id": "69877e42",
   "metadata": {},
   "outputs": [
    {
     "name": "stdout",
     "output_type": "stream",
     "text": [
      "RandomForestClassifier [0.9800995  0.97512438 1.         0.955      0.975      1.\n",
      " 0.98       0.985      1.         0.965     ]\n"
     ]
    }
   ],
   "source": [
    "from sklearn.model_selection import cross_val_score\n",
    "accuracies = cross_val_score(model, X = X_train, y = y_train, cv = 10)\n",
    "print(\"RandomForestClassifier\",accuracies)"
   ]
  },
  {
   "cell_type": "code",
   "execution_count": null,
   "id": "ac2d85d5",
   "metadata": {},
   "outputs": [],
   "source": []
  }
 ],
 "metadata": {
  "kernelspec": {
   "display_name": "Python 3 (ipykernel)",
   "language": "python",
   "name": "python3"
  },
  "language_info": {
   "codemirror_mode": {
    "name": "ipython",
    "version": 3
   },
   "file_extension": ".py",
   "mimetype": "text/x-python",
   "name": "python",
   "nbconvert_exporter": "python",
   "pygments_lexer": "ipython3",
   "version": "3.9.13"
  }
 },
 "nbformat": 4,
 "nbformat_minor": 5
}
